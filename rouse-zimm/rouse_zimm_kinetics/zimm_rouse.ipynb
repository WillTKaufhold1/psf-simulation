{
 "cells": [
  {
   "cell_type": "code",
   "execution_count": 1,
   "metadata": {},
   "outputs": [],
   "source": [
    "import numpy as np\n",
    "import pandas as pd\n",
    "import matplotlib.pyplot as plt\n",
    "%matplotlib inline\n",
    "from matplotlib import rc\n",
    "\n",
    "# a thousand photons in 20 milliseconds...\n",
    "\n",
    "rc('font',**{'family':'sans-serif','sans-serif':['Ariel']})\n",
    "## for Palatino and other serif fonts use:\n",
    "#rc('font',**{'family':'serif','serif':['Palatino']})\n",
    "rc('text', usetex=False)\n",
    "import matplotlib \n",
    "matplotlib.rc('xtick', labelsize=8) \n",
    "matplotlib.rc('ytick', labelsize=8) \n",
    "plt.rcParams.update({'font.size': 8})"
   ]
  },
  {
   "cell_type": "code",
   "execution_count": 2,
   "metadata": {},
   "outputs": [],
   "source": [
    "def get_tau_r(N=1,b=1,a=1,eta=1e-3,T=295,p=1):\n",
    "    '''The Rouse model'''\n",
    "    k_b = 1.38e-23 #N.B: eta is the dynamic? viscosity 1mPas\n",
    "    tau_r = (2*N**2*a**2*b*eta)/(np.pi * k_b * T * p**2)\n",
    "    \n",
    "    return tau_r"
   ]
  },
  {
   "cell_type": "code",
   "execution_count": 3,
   "metadata": {},
   "outputs": [],
   "source": [
    "def get_tau_z(N=1,b=1,a=1,eta=1e-3,T=295,p=1):\n",
    "    '''The Zimm model'''\n",
    "    k_b = 1.38e-23\n",
    "    tau_z = (np.sqrt(N)*a)**3/(3*np.pi*p**3)**0.5 * (eta)/(k_b*T)\n",
    "    \n",
    "    return tau_z"
   ]
  },
  {
   "cell_type": "code",
   "execution_count": 4,
   "metadata": {},
   "outputs": [
    {
     "data": {
      "text/plain": [
       "[<matplotlib.axis.YTick at 0x7f64729f7210>,\n",
       " <matplotlib.axis.YTick at 0x7f6473725950>,\n",
       " <matplotlib.axis.YTick at 0x7f64737251d0>,\n",
       " <matplotlib.axis.YTick at 0x7f64729b8890>,\n",
       " <matplotlib.axis.YTick at 0x7f64729b8ed0>]"
      ]
     },
     "execution_count": 4,
     "metadata": {},
     "output_type": "execute_result"
    },
    {
     "name": "stderr",
     "output_type": "stream",
     "text": [
      "findfont: Font family ['sans-serif'] not found. Falling back to DejaVu Sans.\n"
     ]
    },
    {
     "data": {
      "image/png": "[encoded data removed]",
      "text/plain": [
       "<Figure size 216x216 with 1 Axes>"
      ]
     },
     "metadata": {
      "needs_background": "light"
     },
     "output_type": "display_data"
    }
   ],
   "source": [
    "f,ax = plt.subplots(1,1,figsize = (3,3),sharex=True)\n",
    "\n",
    "N_vals = np.arange(1,20)\n",
    "\n",
    "ax.plot(\n",
    "    N_vals,\n",
    "    [get_tau_r(N=N,b = 3.56e-9,a=9.15e-9) / 1e-6 for N in N_vals], #like 40 nanoseconds?t\n",
    "    'k--',label = 'Rouse Model'\n",
    "    )\n",
    "ax.plot(\n",
    "    N_vals,\n",
    "    [get_tau_z(N=N,b = 3.56e-9,a=9.15e-9) / 1e-6 for N in N_vals], #like 40 nanoseconds?t\n",
    "    'r-',label = 'Zimm Model'\n",
    "    )\n",
    "\n",
    "ax.set_xlabel('N')\n",
    "ax.set_ylabel('t (us)')\n",
    "\n",
    "ax.set_xticks([0,5,10,15,20])\n",
    "ax.set_yticks([0,5,10,15,20])"
   ]
  },
  {
   "cell_type": "markdown",
   "metadata": {},
   "source": [
    "<h1> Now do it for the polymer length </h1>"
   ]
  },
  {
   "cell_type": "code",
   "execution_count": 5,
   "metadata": {},
   "outputs": [
    {
     "data": {
      "image/png": "[encoded data removed]",
      "text/plain": [
       "<Figure size 216x216 with 1 Axes>"
      ]
     },
     "metadata": {
      "needs_background": "light"
     },
     "output_type": "display_data"
    }
   ],
   "source": [
    "f,ax = plt.subplots(1,1,figsize = (3,3),sharex=True)\n",
    "\n",
    "N_vals = np.arange(1,10)\n",
    "\n",
    "ax.plot(\n",
    "    N_vals*9.15e-9*1e9,\n",
    "    [get_tau_r(N=N,b = 3.56e-9,a=9.15e-9) / 1e-6 for N in N_vals], #like 40 nanoseconds?t\n",
    "    'k--',label = 'Rouse Model'\n",
    "    )\n",
    "ax.plot(\n",
    "    N_vals*9.15e-9*1e9,\n",
    "    [get_tau_z(N=N,b = 3.56e-9,a=9.15e-9) / 1e-6 for N in N_vals], #like 40 nanoseconds?t\n",
    "    'r-',label = 'Zimm Model'\n",
    "    )\n",
    "\n",
    "ax.set_xlabel('length (nm)')\n",
    "ax.set_ylabel('t (us)')\n",
    "\n",
    "\n",
    "d1 = 0.3*(1*9+2)\n",
    "d2 = 0.3*(3*9+2)\n",
    "d3 = 0.3*(6*9+2)\n",
    "\n",
    "for d in [d1,d2,d3]:\n",
    "    plt.plot(d*np.ones(100),\n",
    "             np.linspace(0,30,100),'b--')\n",
    "    \n",
    "ax.set_ylim([0,1])\n",
    "ax.set_xticks([0,50])\n",
    "ax.set_yticks([0,1])\n",
    "\n",
    "plt.legend()\n",
    "\n",
    "plt.savefig('rouse_zimm_model.pdf')\n",
    "\n",
    "plt.savefig('rouse_zimm_model.png',dpi = 1000.)"
   ]
  },
  {
   "cell_type": "code",
   "execution_count": 6,
   "metadata": {},
   "outputs": [],
   "source": [
    "#how long is the 6mer?\n",
    "sixmer_length = 9*6.*0.3e-9 / 9.15e-9"
   ]
  },
  {
   "cell_type": "code",
   "execution_count": 7,
   "metadata": {},
   "outputs": [
    {
     "data": {
      "text/plain": [
       "1.7704918032786887"
      ]
     },
     "execution_count": 7,
     "metadata": {},
     "output_type": "execute_result"
    }
   ],
   "source": [
    "sixmer_length"
   ]
  },
  {
   "cell_type": "code",
   "execution_count": 8,
   "metadata": {},
   "outputs": [
    {
     "name": "stdout",
     "output_type": "stream",
     "text": [
      "100.00000000000001\n"
     ]
    }
   ],
   "source": [
    "#expected time betweeen photons\n",
    "print (1. / 10000.  / 1e-6)"
   ]
  },
  {
   "cell_type": "code",
   "execution_count": 21,
   "metadata": {},
   "outputs": [
    {
     "data": {
      "text/plain": [
       "173.36906604529074"
      ]
     },
     "execution_count": 21,
     "metadata": {},
     "output_type": "execute_result"
    }
   ],
   "source": [
    "get_tau_z(N=2,b = 3.56e-9,a=9.15e-9) / 1e-9 #like 40 nanoseconds?t"
   ]
  },
  {
   "cell_type": "code",
   "execution_count": 25,
   "metadata": {},
   "outputs": [
    {
     "data": {
      "text/plain": [
       "745.7464408968001"
      ]
     },
     "execution_count": 25,
     "metadata": {},
     "output_type": "execute_result"
    }
   ],
   "source": [
    "get_tau_r(N=4,b = 3.56e-9,a=9.15e-9) / 1e-9 #like 40 nanoseconds?"
   ]
  },
  {
   "cell_type": "code",
   "execution_count": 26,
   "metadata": {},
   "outputs": [
    {
     "data": {
      "text/plain": [
       "490.3617689944139"
      ]
     },
     "execution_count": 26,
     "metadata": {},
     "output_type": "execute_result"
    }
   ],
   "source": [
    "get_tau_z(N=4,b = 3.56e-9,a=9.15e-9) / 1e-9 #like 40 nanoseconds?"
   ]
  },
  {
   "cell_type": "code",
   "execution_count": null,
   "metadata": {},
   "outputs": [],
   "source": []
  },
  {
   "cell_type": "code",
   "execution_count": 18,
   "metadata": {},
   "outputs": [
    {
     "data": {
      "text/plain": [
       "4.660915255605001"
      ]
     },
     "execution_count": 18,
     "metadata": {},
     "output_type": "execute_result"
    }
   ],
   "source": [
    "get_tau_r(N=10,b = 3.56e-9,a=9.15e-9) / 1e-6 #like 40 nanoseconds?"
   ]
  },
  {
   "cell_type": "code",
   "execution_count": 19,
   "metadata": {},
   "outputs": [],
   "source": [
    "#work out the expected number of photons per second."
   ]
  },
  {
   "cell_type": "code",
   "execution_count": null,
   "metadata": {},
   "outputs": [],
   "source": []
  }
 ],
 "metadata": {
  "kernelspec": {
   "display_name": "Python 3",
   "language": "python",
   "name": "python3"
  },
  "language_info": {
   "codemirror_mode": {
    "name": "ipython",
    "version": 3
   },
   "file_extension": ".py",
   "mimetype": "text/x-python",
   "name": "python",
   "nbconvert_exporter": "python",
   "pygments_lexer": "ipython3",
   "version": "3.7.6"
  }
 },
 "nbformat": 4,
 "nbformat_minor": 2
}
