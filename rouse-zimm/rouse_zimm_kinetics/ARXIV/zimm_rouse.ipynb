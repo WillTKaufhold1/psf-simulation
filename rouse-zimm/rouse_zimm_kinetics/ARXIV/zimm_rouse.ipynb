{
 "cells": [
  {
   "cell_type": "code",
   "execution_count": 76,
   "metadata": {},
   "outputs": [],
   "source": [
    "import numpy as np\n",
    "import pandas as pd\n",
    "import matplotlib.pyplot as plt\n",
    "%matplotlib inline\n",
    "from matplotlib import rc"
   ]
  },
  {
   "cell_type": "code",
   "execution_count": 77,
   "metadata": {},
   "outputs": [],
   "source": [
    "rc('font',**{'family':'sans-serif','sans-serif':['Ariel']})\n",
    "## for Palatino and other serif fonts use:\n",
    "#rc('font',**{'family':'serif','serif':['Palatino']})\n",
    "rc('text', usetex=False)\n",
    "import matplotlib \n",
    "matplotlib.rc('xtick', labelsize=8) \n",
    "matplotlib.rc('ytick', labelsize=8) \n",
    "plt.rcParams.update({'font.size': 8})"
   ]
  },
  {
   "cell_type": "code",
   "execution_count": 78,
   "metadata": {},
   "outputs": [],
   "source": [
    "def get_tau_r(N=1,b=1,a=1,eta=1e-3,T=295,p=1):\n",
    "    '''The Rouse model'''\n",
    "    k_b = 1.38e-23 #N.B: eta is the dynamic? viscosity 1mPas\n",
    "    tau_r = (2*N**2*a**2*b*eta)/(np.pi * k_b * T * p**2)\n",
    "    \n",
    "    return tau_r"
   ]
  },
  {
   "cell_type": "code",
   "execution_count": 79,
   "metadata": {},
   "outputs": [],
   "source": [
    "def get_tau_z(N=1,b=1,a=1,eta=1e-3,T=295,p=1):\n",
    "    '''The Zimm model'''\n",
    "    k_b = 1.38e-23\n",
    "    tau_z = (np.sqrt(N)*a)**3/(3*np.pi*p**3)**0.5 * (eta)/(k_b*T)\n",
    "    \n",
    "    return tau_z"
   ]
  },
  {
   "cell_type": "code",
   "execution_count": 80,
   "metadata": {},
   "outputs": [
    {
     "data": {
      "text/plain": [
       "[<matplotlib.axis.YTick at 0x7f0bde02f650>,\n",
       " <matplotlib.axis.YTick at 0x7f0bde228d50>,\n",
       " <matplotlib.axis.YTick at 0x7f0bde56e850>,\n",
       " <matplotlib.axis.YTick at 0x7f0bddfe92d0>,\n",
       " <matplotlib.axis.YTick at 0x7f0bddfe9850>]"
      ]
     },
     "execution_count": 80,
     "metadata": {},
     "output_type": "execute_result"
    },
    {
     "name": "stderr",
     "output_type": "stream",
     "text": [
      "/home/wtk23/anaconda2/lib/python2.7/site-packages/matplotlib/font_manager.py:1331: UserWarning: findfont: Font family [u'sans-serif'] not found. Falling back to DejaVu Sans\n",
      "  (prop.get_family(), self.defaultFamily[fontext]))\n"
     ]
    },
    {
     "data": {
      "image/png": "[encoded data removed]",
      "text/plain": [
       "<Figure size 216x216 with 1 Axes>"
      ]
     },
     "metadata": {
      "needs_background": "light"
     },
     "output_type": "display_data"
    }
   ],
   "source": [
    "f,ax = plt.subplots(1,1,figsize = (3,3),sharex=True)\n",
    "\n",
    "N_vals = np.arange(1,20)\n",
    "\n",
    "ax.plot(\n",
    "    N_vals,\n",
    "    [get_tau_r(N=N,b = 3.56e-9,a=9.15e-9) / 1e-6 for N in N_vals], #like 40 nanoseconds?t\n",
    "    'k--',label = 'Rouse Model'\n",
    "    )\n",
    "ax.plot(\n",
    "    N_vals,\n",
    "    [get_tau_z(N=N,b = 3.56e-9,a=9.15e-9) / 1e-6 for N in N_vals], #like 40 nanoseconds?t\n",
    "    'r-',label = 'Zimm Model'\n",
    "    )\n",
    "\n",
    "ax.set_xlabel('N')\n",
    "ax.set_ylabel('t (uM)')\n",
    "\n",
    "ax.set_xticks([0,5,10,15,20])\n",
    "ax.set_yticks([0,5,10,15,20])"
   ]
  },
  {
   "cell_type": "markdown",
   "metadata": {},
   "source": [
    "<h1> Now do it for the polymer length </h1>"
   ]
  },
  {
   "cell_type": "code",
   "execution_count": 85,
   "metadata": {},
   "outputs": [
    {
     "data": {
      "image/png": "[encoded data removed]",
      "text/plain": [
       "<Figure size 216x216 with 1 Axes>"
      ]
     },
     "metadata": {
      "needs_background": "light"
     },
     "output_type": "display_data"
    }
   ],
   "source": [
    "f,ax = plt.subplots(1,1,figsize = (3,3),sharex=True)\n",
    "\n",
    "N_vals = np.arange(1,10)\n",
    "\n",
    "ax.plot(\n",
    "    N_vals*9.15e-9*1e9,\n",
    "    [get_tau_r(N=N,b = 3.56e-9,a=9.15e-9) / 1e-6 for N in N_vals], #like 40 nanoseconds?t\n",
    "    'k--',label = 'Rouse Model'\n",
    "    )\n",
    "ax.plot(\n",
    "    N_vals*9.15e-9*1e9,\n",
    "    [get_tau_z(N=N,b = 3.56e-9,a=9.15e-9) / 1e-6 for N in N_vals], #like 40 nanoseconds?t\n",
    "    'r-',label = 'Zimm Model'\n",
    "    )\n",
    "\n",
    "ax.set_xlabel('length (nm)')\n",
    "ax.set_ylabel('t (uM)')\n",
    "\n",
    "\n",
    "d1 = 0.3*(1*9+2)\n",
    "d2 = 0.3*(3*9+2)\n",
    "d3 = 0.3*(6*9+2)\n",
    "\n",
    "for d in [d1,d2,d3]:\n",
    "    plt.plot(d*np.ones(100),\n",
    "             np.linspace(0,30,100),'b--')\n",
    "    \n",
    "ax.set_ylim([0,1])\n",
    "ax.set_xticks([0,50])\n",
    "ax.set_yticks([0,1])\n",
    "\n",
    "plt.legend()\n",
    "\n",
    "plt.savefig('rouse_zimm_model.pdf')\n",
    "\n",
    "plt.savefig('rouse_zimm_model.png',dpi = 1000.)"
   ]
  },
  {
   "cell_type": "code",
   "execution_count": 82,
   "metadata": {},
   "outputs": [
    {
     "data": {
      "text/plain": [
       "61.29522112430174"
      ]
     },
     "execution_count": 82,
     "metadata": {},
     "output_type": "execute_result"
    }
   ],
   "source": [
    "get_tau_z(N=1,b = 3.56e-9,a=9.15e-9) / 1e-9 #like 40 nanoseconds?t"
   ]
  },
  {
   "cell_type": "code",
   "execution_count": null,
   "metadata": {},
   "outputs": [],
   "source": []
  }
 ],
 "metadata": {
  "kernelspec": {
   "display_name": "Python 2",
   "language": "python",
   "name": "python2"
  },
  "language_info": {
   "codemirror_mode": {
    "name": "ipython",
    "version": 2
   },
   "file_extension": ".py",
   "mimetype": "text/x-python",
   "name": "python",
   "nbconvert_exporter": "python",
   "pygments_lexer": "ipython2",
   "version": "2.7.15"
  }
 },
 "nbformat": 4,
 "nbformat_minor": 2
}
